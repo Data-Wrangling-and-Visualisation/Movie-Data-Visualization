{
 "cells": [
  {
   "cell_type": "markdown",
   "metadata": {},
   "source": [
    "# KinoPoisk Top 250 Movies Scraper\n",
    "\n",
    "This notebook uses Selenium to scrape the top 250 movies from KinoPoisk, a popular Russian movie database. It extracts movie details such as title, rating, and additional information like reviews, ratings, and more.\n",
    "\n",
    "---\n",
    "\n",
    "## Step 1: Import Required Libraries\n",
    "\n",
    "We start by importing the necessary libraries for web scraping and data handling:\n",
    "- **Selenium**: For automating the browser to scrape data.\n",
    "- **time**: To add delays between actions to allow the page to load.\n",
    "- **json**: To store the scraped data in a structured format."
   ]
  },
  {
   "cell_type": "code",
   "execution_count": 2,
   "metadata": {},
   "outputs": [],
   "source": [
    "from selenium.webdriver import Chrome\n",
    "from selenium.webdriver.chrome.service import Service\n",
    "from selenium.webdriver.common.by import By\n",
    "from selenium.webdriver.chrome.options import Options\n",
    "import time\n",
    "import json"
   ]
  },
  {
   "cell_type": "markdown",
   "metadata": {},
   "source": [
    "## Step 2: Configure Selenium WebDriver\n",
    "\n",
    "We configure the Chrome WebDriver to run in **headless mode**, which means the browser window will not open during the scraping process."
   ]
  },
  {
   "cell_type": "code",
   "execution_count": 3,
   "metadata": {},
   "outputs": [],
   "source": [
    "chrome_options = Options()\n",
    "chrome_options.add_argument(\"--headless\")"
   ]
  },
  {
   "cell_type": "markdown",
   "metadata": {},
   "source": [
    "## Step 3: Open KinoPoisk's Top 250 Movies Page\n",
    "\n",
    "We initialize the Chrome WebDriver and navigate to the KinoPoisk Top 250 movies page. The `time.sleep(5)` ensures that the page has enough time to load before we start scraping."
   ]
  },
  {
   "cell_type": "code",
   "execution_count": 9,
   "metadata": {},
   "outputs": [],
   "source": [
    "service = Service('/usr/local/bin/chromedriver')\n",
    "driver = Chrome(service=service, options=chrome_options)"
   ]
  },
  {
   "cell_type": "code",
   "execution_count": 46,
   "metadata": {},
   "outputs": [],
   "source": [
    "url = \"https://www.kinopoisk.ru/lists/movies/top250/\"\n",
    "driver.get(url)\n",
    "\n",
    "time.sleep(5)"
   ]
  },
  {
   "cell_type": "code",
   "execution_count": 47,
   "metadata": {},
   "outputs": [],
   "source": [
    "movies_data = []\n",
    "movies_data_full = []"
   ]
  },
  {
   "cell_type": "markdown",
   "metadata": {},
   "source": [
    "## Step 4: Extract Movie Data\n",
    "\n",
    "We loop through the pages of the KinoPoisk Top 250 list and extract the following details for each movie:\n",
    "\n",
    "- **Title**: The name of the movie.\n",
    "- **URL**: The link to the movie's page on KinoPoisk.\n",
    "\n",
    "The script checks for a \"Next\" button to navigate through the pages. If the button is disabled, the loop breaks, indicating that all pages have been scraped."
   ]
  },
  {
   "cell_type": "code",
   "execution_count": null,
   "metadata": {},
   "outputs": [
    {
     "name": "stdout",
     "output_type": "stream",
     "text": [
      "No more pages or error navigating: Message: no such element: Unable to locate element: {\"method\":\"css selector\",\"selector\":\".styles_end__aEsmB\"}\n",
      "  (Session info: chrome=133.0.6943.99); For documentation on this error, please visit: https://www.selenium.dev/documentation/webdriver/troubleshooting/errors#no-such-element-exception\n",
      "Stacktrace:\n",
      "0   chromedriver                        0x00000001012b6bac cxxbridge1$str$ptr + 2724820\n",
      "1   chromedriver                        0x00000001012af20c cxxbridge1$str$ptr + 2693684\n",
      "2   chromedriver                        0x0000000100e15afc cxxbridge1$string$len + 93348\n",
      "3   chromedriver                        0x0000000100e5c8f8 cxxbridge1$string$len + 383648\n",
      "4   chromedriver                        0x0000000100e9db94 cxxbridge1$string$len + 650556\n",
      "5   chromedriver                        0x0000000100e50ba0 cxxbridge1$string$len + 335176\n",
      "6   chromedriver                        0x000000010127f664 cxxbridge1$str$ptr + 2498188\n",
      "7   chromedriver                        0x0000000101282978 cxxbridge1$str$ptr + 2511264\n",
      "8   chromedriver                        0x0000000101264d04 cxxbridge1$str$ptr + 2389292\n",
      "9   chromedriver                        0x0000000101283220 cxxbridge1$str$ptr + 2513480\n",
      "10  chromedriver                        0x0000000101255cec cxxbridge1$str$ptr + 2327828\n",
      "11  chromedriver                        0x000000010129f8d4 cxxbridge1$str$ptr + 2629884\n",
      "12  chromedriver                        0x000000010129fa5c cxxbridge1$str$ptr + 2630276\n",
      "13  chromedriver                        0x00000001012aee80 cxxbridge1$str$ptr + 2692776\n",
      "14  libsystem_pthread.dylib             0x00000001813482e4 _pthread_start + 136\n",
      "15  libsystem_pthread.dylib             0x00000001813430fc thread_start + 8\n",
      "\n"
     ]
    }
   ],
   "source": [
    "while True:\n",
    "    elements = driver.find_elements(By.CSS_SELECTOR, \".base-movie-main-info_link__YwtP1\")\n",
    "    for element in elements:\n",
    "        movie_dict = {}\n",
    "        movie_dict['title'] = element.text.split('\\n')[0]  # Extract the title\n",
    "        movie_dict['url'] = element.get_attribute(\"href\")  # Extract the URL\n",
    "        movies_data.append(movie_dict)\n",
    "        movies_data_full.append(movie_dict)\n",
    "\n",
    "    # Check if there is a \"Next\" button and click it\n",
    "    try:\n",
    "        next_button = driver.find_element(By.CSS_SELECTOR, '.styles_end__aEsmB')\n",
    "        if 'disabled' in next_button.get_attribute('class'):\n",
    "            break \n",
    "        next_button.click()\n",
    "        time.sleep(5)\n",
    "    except Exception as e:\n",
    "        print(\"No more pages or error navigating:\", e)\n",
    "        break"
   ]
  },
  {
   "cell_type": "code",
   "execution_count": 49,
   "metadata": {},
   "outputs": [
    {
     "name": "stdout",
     "output_type": "stream",
     "text": [
      "[{'title': '1+1', 'url': 'https://www.kinopoisk.ru/film/535341/'}, {'title': 'Интерстеллар', 'url': 'https://www.kinopoisk.ru/film/258687/'}, {'title': 'Побег из Шоушенка', 'url': 'https://www.kinopoisk.ru/film/326/'}, {'title': 'Остров проклятых', 'url': 'https://www.kinopoisk.ru/film/397667/'}, {'title': 'Зеленая миля', 'url': 'https://www.kinopoisk.ru/film/435/'}, {'title': 'Бойцовский клуб', 'url': 'https://www.kinopoisk.ru/film/361/'}, {'title': 'Джентльмены', 'url': 'https://www.kinopoisk.ru/film/1143242/'}, {'title': 'Властелин колец: Возвращение короля', 'url': 'https://www.kinopoisk.ru/film/3498/'}, {'title': 'Форрест Гамп', 'url': 'https://www.kinopoisk.ru/film/448/'}, {'title': 'Властелин колец: Братство кольца', 'url': 'https://www.kinopoisk.ru/film/328/'}, {'title': 'Унесённые призраками', 'url': 'https://www.kinopoisk.ru/film/370/'}, {'title': 'Терминатор 2: Судный день', 'url': 'https://www.kinopoisk.ru/film/444/'}, {'title': 'Зеленая книга', 'url': 'https://www.kinopoisk.ru/film/1108577/'}, {'title': 'Леон', 'url': 'https://www.kinopoisk.ru/film/389/'}, {'title': 'Достучаться до небес', 'url': 'https://www.kinopoisk.ru/film/32898/'}, {'title': 'Гладиатор', 'url': 'https://www.kinopoisk.ru/film/474/'}, {'title': 'Властелин колец: Две крепости', 'url': 'https://www.kinopoisk.ru/film/312/'}, {'title': 'Начало', 'url': 'https://www.kinopoisk.ru/film/447301/'}, {'title': 'Криминальное чтиво', 'url': 'https://www.kinopoisk.ru/film/342/'}, {'title': 'Операция «Ы» и другие приключения Шурика', 'url': 'https://www.kinopoisk.ru/film/42782/'}, {'title': 'Список Шиндлера', 'url': 'https://www.kinopoisk.ru/film/329/'}, {'title': 'Тайна Коко', 'url': 'https://www.kinopoisk.ru/film/679486/'}, {'title': 'Унесённые ветром', 'url': 'https://www.kinopoisk.ru/film/456/'}, {'title': 'Бриллиантовая рука', 'url': 'https://www.kinopoisk.ru/film/46225/'}, {'title': 'Девчата', 'url': 'https://www.kinopoisk.ru/film/44168/'}, {'title': 'Темный рыцарь', 'url': 'https://www.kinopoisk.ru/film/111543/'}, {'title': 'Брат 2', 'url': 'https://www.kinopoisk.ru/film/41520/'}, {'title': 'Брат', 'url': 'https://www.kinopoisk.ru/film/41519/'}, {'title': 'Иван Васильевич меняет профессию', 'url': 'https://www.kinopoisk.ru/film/42664/'}, {'title': 'Собачье сердце', 'url': 'https://www.kinopoisk.ru/film/77335/'}, {'title': 'Большой куш', 'url': 'https://www.kinopoisk.ru/film/526/'}, {'title': 'Назад в будущее', 'url': 'https://www.kinopoisk.ru/film/476/'}, {'title': 'Дангал', 'url': 'https://www.kinopoisk.ru/film/970882/'}, {'title': 'Шрэк', 'url': 'https://www.kinopoisk.ru/film/430/'}, {'title': 'Хатико: Самый верный друг', 'url': 'https://www.kinopoisk.ru/film/387556/'}, {'title': 'Волк с Уолл-стрит', 'url': 'https://www.kinopoisk.ru/film/462682/'}, {'title': 'Дикий робот', 'url': 'https://www.kinopoisk.ru/film/5457899/'}, {'title': 'Кавказская пленница, или Новые приключения Шурика', 'url': 'https://www.kinopoisk.ru/film/44745/'}, {'title': 'Поймай меня, если сможешь', 'url': 'https://www.kinopoisk.ru/film/324/'}, {'title': 'Пианист', 'url': 'https://www.kinopoisk.ru/film/355/'}, {'title': 'Гарри Поттер и философский камень', 'url': 'https://www.kinopoisk.ru/film/689/'}, {'title': 'Карты, деньги, два ствола', 'url': 'https://www.kinopoisk.ru/film/522/'}, {'title': 'Трасса 60', 'url': 'https://www.kinopoisk.ru/film/3563/'}, {'title': 'Крестный отец', 'url': 'https://www.kinopoisk.ru/film/325/'}, {'title': 'Матрица', 'url': 'https://www.kinopoisk.ru/film/301/'}, {'title': 'Престиж', 'url': 'https://www.kinopoisk.ru/film/195334/'}, {'title': 'Одержимость', 'url': 'https://www.kinopoisk.ru/film/725190/'}, {'title': 'Пятый элемент', 'url': 'https://www.kinopoisk.ru/film/2656/'}, {'title': 'Титаник', 'url': 'https://www.kinopoisk.ru/film/2213/'}, {'title': 'Гарри Поттер и узник Азкабана', 'url': 'https://www.kinopoisk.ru/film/322/'}, {'title': '...А зори здесь тихие', 'url': 'https://www.kinopoisk.ru/film/43395/'}, {'title': 'В августе 44-го', 'url': 'https://www.kinopoisk.ru/film/41381/'}, {'title': 'Укрощение строптивого', 'url': 'https://www.kinopoisk.ru/film/63912/'}, {'title': 'Джанго освобожденный', 'url': 'https://www.kinopoisk.ru/film/586397/'}, {'title': 'Пеле: Рождение легенды', 'url': 'https://www.kinopoisk.ru/film/803422/'}, {'title': 'Дюна: Часть вторая', 'url': 'https://www.kinopoisk.ru/film/4540126/'}, {'title': 'Вторая жизнь Уве', 'url': 'https://www.kinopoisk.ru/film/848894/'}, {'title': 'Малышка на миллион', 'url': 'https://www.kinopoisk.ru/film/81297/'}, {'title': 'Одна жизнь', 'url': 'https://www.kinopoisk.ru/film/5105855/'}, {'title': 'Отступники', 'url': 'https://www.kinopoisk.ru/film/81314/'}, {'title': 'Семь', 'url': 'https://www.kinopoisk.ru/film/377/'}, {'title': 'Пираты Карибского моря: Проклятие Черной жемчужины', 'url': 'https://www.kinopoisk.ru/film/4374/'}, {'title': 'Гордость и предубеждение', 'url': 'https://www.kinopoisk.ru/film/81733/'}, {'title': 'Джентльмены удачи', 'url': 'https://www.kinopoisk.ru/film/44386/'}, {'title': 'Шерлок Холмс и доктор Ватсон: Знакомство', 'url': 'https://www.kinopoisk.ru/film/77269/'}, {'title': 'Бесславные ублюдки', 'url': 'https://www.kinopoisk.ru/film/9691/'}, {'title': 'Лев', 'url': 'https://www.kinopoisk.ru/film/864138/'}, {'title': 'Приключения Шерлока Холмса и доктора Ватсона: Собака Баскервилей', 'url': 'https://www.kinopoisk.ru/film/77263/'}, {'title': 'Достать ножи', 'url': 'https://www.kinopoisk.ru/film/1188529/'}, {'title': 'Апокалипсис', 'url': 'https://www.kinopoisk.ru/film/160977/'}, {'title': 'Дело храбрых', 'url': 'https://www.kinopoisk.ru/film/965754/'}, {'title': 'Законопослушный гражданин', 'url': 'https://www.kinopoisk.ru/film/406408/'}, {'title': 'Иди и смотри', 'url': 'https://www.kinopoisk.ru/film/42571/'}, {'title': 'Шоу Трумана', 'url': 'https://www.kinopoisk.ru/film/4541/'}, {'title': 'Белая птица: Новое чудо', 'url': 'https://www.kinopoisk.ru/film/4384109/'}, {'title': 'Один дома', 'url': 'https://www.kinopoisk.ru/film/8124/'}, {'title': 'Паразиты', 'url': 'https://www.kinopoisk.ru/film/1043758/'}, {'title': 'Планета Ка-Пэкс', 'url': 'https://www.kinopoisk.ru/film/723/'}, {'title': 'Счастливое число Слевина', 'url': 'https://www.kinopoisk.ru/film/86326/'}, {'title': 'Омерзительная восьмерка', 'url': 'https://www.kinopoisk.ru/film/819101/'}, {'title': 'Области тьмы', 'url': 'https://www.kinopoisk.ru/film/462606/'}, {'title': 'Лучшее предложение', 'url': 'https://www.kinopoisk.ru/film/681849/'}, {'title': 'Реквием по мечте', 'url': 'https://www.kinopoisk.ru/film/367/'}, {'title': 'Пожары', 'url': 'https://www.kinopoisk.ru/film/425400/'}, {'title': 'Самый быстрый Indian', 'url': 'https://www.kinopoisk.ru/film/81512/'}, {'title': 'Лекарь: Ученик Авиценны', 'url': 'https://www.kinopoisk.ru/film/645276/'}, {'title': 'Крик тишины', 'url': 'https://www.kinopoisk.ru/film/1228407/'}, {'title': 'Алеша Попович и Тугарин Змей', 'url': 'https://www.kinopoisk.ru/film/81041/'}, {'title': 'Жизнь Дэвида Гейла', 'url': 'https://www.kinopoisk.ru/film/738/'}, {'title': '12 стульев', 'url': 'https://www.kinopoisk.ru/film/46789/'}, {'title': 'Гарри Поттер и Тайная комната', 'url': 'https://www.kinopoisk.ru/film/688/'}, {'title': 'Отель Мумбаи: Противостояние', 'url': 'https://www.kinopoisk.ru/film/958519/'}, {'title': '12 лет рабства', 'url': 'https://www.kinopoisk.ru/film/606646/'}, {'title': 'Они сражались за Родину', 'url': 'https://www.kinopoisk.ru/film/42770/'}, {'title': 'Игры разума', 'url': 'https://www.kinopoisk.ru/film/530/'}, {'title': 'Дурак', 'url': 'https://www.kinopoisk.ru/film/808639/'}, {'title': 'Троя', 'url': 'https://www.kinopoisk.ru/film/3442/'}, {'title': 'Шрэк 2', 'url': 'https://www.kinopoisk.ru/film/5273/'}, {'title': 'Гарри Поттер и Дары Смерти: Часть II', 'url': 'https://www.kinopoisk.ru/film/407636/'}, {'title': 'Молчание ягнят', 'url': 'https://www.kinopoisk.ru/film/345/'}, {'title': 'Адвокат дьявола', 'url': 'https://www.kinopoisk.ru/film/3797/'}, {'title': 'Догвилль', 'url': 'https://www.kinopoisk.ru/film/7226/'}, {'title': 'Приключения Паддингтона 2', 'url': 'https://www.kinopoisk.ru/film/906042/'}, {'title': '12 разгневанных мужчин', 'url': 'https://www.kinopoisk.ru/film/346/'}, {'title': 'Балканский рубеж', 'url': 'https://www.kinopoisk.ru/film/1000443/'}, {'title': 'Крестный отец 2', 'url': 'https://www.kinopoisk.ru/film/327/'}, {'title': 'Ла-Ла Ленд', 'url': 'https://www.kinopoisk.ru/film/841081/'}, {'title': 'Артур, ты король', 'url': 'https://www.kinopoisk.ru/film/1402937/'}, {'title': 'По соображениям совести', 'url': 'https://www.kinopoisk.ru/film/649917/'}, {'title': 'Кин-дза-дза!', 'url': 'https://www.kinopoisk.ru/film/44811/'}, {'title': 'Поток', 'url': 'https://www.kinopoisk.ru/film/4502606/'}, {'title': 'Безумный Макс: Дорога ярости', 'url': 'https://www.kinopoisk.ru/film/453406/'}, {'title': 'Искупление', 'url': 'https://www.kinopoisk.ru/film/255611/'}, {'title': 'Клаус', 'url': 'https://www.kinopoisk.ru/film/957887/'}, {'title': 'Чудо', 'url': 'https://www.kinopoisk.ru/film/722951/'}, {'title': 'Как прогулять школу с пользой', 'url': 'https://www.kinopoisk.ru/film/1032308/'}, {'title': 'Война', 'url': 'https://www.kinopoisk.ru/film/41431/'}, {'title': 'Страсти Христовы', 'url': 'https://www.kinopoisk.ru/film/3707/'}, {'title': 'Далласский клуб покупателей', 'url': 'https://www.kinopoisk.ru/film/260162/'}, {'title': 'Люди в чёрном', 'url': 'https://www.kinopoisk.ru/film/1091/'}, {'title': 'Небо', 'url': 'https://www.kinopoisk.ru/film/1421591/'}, {'title': 'Король говорит!', 'url': 'https://www.kinopoisk.ru/film/485311/'}, {'title': 'Брестская крепость', 'url': 'https://www.kinopoisk.ru/film/436263/'}, {'title': 'Такси', 'url': 'https://www.kinopoisk.ru/film/14349/'}, {'title': 'Вокзал для двоих', 'url': 'https://www.kinopoisk.ru/film/45822/'}, {'title': 'Приходи на меня посмотреть', 'url': 'https://www.kinopoisk.ru/film/40955/'}, {'title': 'Невозможное', 'url': 'https://www.kinopoisk.ru/film/518037/'}, {'title': 'Карнавальная ночь', 'url': 'https://www.kinopoisk.ru/film/44720/'}, {'title': 'Опасная игра Слоун', 'url': 'https://www.kinopoisk.ru/film/933307/'}, {'title': 'Джокер', 'url': 'https://www.kinopoisk.ru/film/1048334/'}, {'title': 'Гарри Поттер и Кубок огня', 'url': 'https://www.kinopoisk.ru/film/8408/'}, {'title': 'Афоня', 'url': 'https://www.kinopoisk.ru/film/43423/'}, {'title': 'Чужой', 'url': 'https://www.kinopoisk.ru/film/386/'}, {'title': 'Амели', 'url': 'https://www.kinopoisk.ru/film/341/'}, {'title': 'Аватар', 'url': 'https://www.kinopoisk.ru/film/251733/'}, {'title': 'Приключения Реми', 'url': 'https://www.kinopoisk.ru/film/1108571/'}, {'title': 'Мимино', 'url': 'https://www.kinopoisk.ru/film/46638/'}, {'title': 'Приключения Шерлока Холмса и доктора Ватсона: Король шантажа', 'url': 'https://www.kinopoisk.ru/film/368936/'}, {'title': 'Холодное лето пятьдесят третьего...', 'url': 'https://www.kinopoisk.ru/film/7660/'}, {'title': 'Легенда №17', 'url': 'https://www.kinopoisk.ru/film/601564/'}, {'title': 'Ворошиловский стрелок', 'url': 'https://www.kinopoisk.ru/film/41442/'}, {'title': 'Пираты Карибского моря: Сундук мертвеца', 'url': 'https://www.kinopoisk.ru/film/63991/'}, {'title': 'Принцесса Мононоке', 'url': 'https://www.kinopoisk.ru/film/441/'}, {'title': 'Век Адалин', 'url': 'https://www.kinopoisk.ru/film/522876/'}, {'title': 'Исчезнувшая', 'url': 'https://www.kinopoisk.ru/film/692861/'}, {'title': 'Самая обаятельная и привлекательная', 'url': 'https://www.kinopoisk.ru/film/43602/'}, {'title': 'Шерлок Холмс и доктор Ватсон: Смертельная схватка', 'url': 'https://www.kinopoisk.ru/film/354799/'}, {'title': 'Билли Эллиот', 'url': 'https://www.kinopoisk.ru/film/610/'}, {'title': 'Реальная любовь', 'url': 'https://www.kinopoisk.ru/film/6144/'}, {'title': 'Подольские курсанты', 'url': 'https://www.kinopoisk.ru/film/1191022/'}, {'title': 'Не может быть!', 'url': 'https://www.kinopoisk.ru/film/46368/'}, {'title': 'Вечера на хуторе близ Диканьки', 'url': 'https://www.kinopoisk.ru/film/45694/'}, {'title': 'Загадочная история Бенджамина Баттона', 'url': 'https://www.kinopoisk.ru/film/81555/'}, {'title': 'Белое солнце пустыни', 'url': 'https://www.kinopoisk.ru/film/46066/'}, {'title': 'Звёздные войны: Эпизод 3 – Месть ситхов', 'url': 'https://www.kinopoisk.ru/film/5619/'}, {'title': 'Иллюзионист', 'url': 'https://www.kinopoisk.ru/film/102198/'}, {'title': 'Олдбой', 'url': 'https://www.kinopoisk.ru/film/75871/'}, {'title': 'Назад в будущее 2', 'url': 'https://www.kinopoisk.ru/film/5502/'}, {'title': 'Укрась прощальное утро цветами обещания', 'url': 'https://www.kinopoisk.ru/film/1103852/'}, {'title': 'Дневник памяти', 'url': 'https://www.kinopoisk.ru/film/3561/'}, {'title': 'Вам и не снилось...', 'url': 'https://www.kinopoisk.ru/film/45660/'}, {'title': 'Апокалипсис сегодня', 'url': 'https://www.kinopoisk.ru/film/354/'}, {'title': 'Жестокий романс', 'url': 'https://www.kinopoisk.ru/film/45314/'}, {'title': 'Граф Монте-Кристо', 'url': 'https://www.kinopoisk.ru/film/5452393/'}, {'title': 'Мстители: Война бесконечности', 'url': 'https://www.kinopoisk.ru/film/843649/'}, {'title': '12', 'url': 'https://www.kinopoisk.ru/film/222809/'}, {'title': 'Охота', 'url': 'https://www.kinopoisk.ru/film/647671/'}, {'title': 'Славные парни', 'url': 'https://www.kinopoisk.ru/film/350/'}, {'title': 'Особенности национальной охоты', 'url': 'https://www.kinopoisk.ru/film/7653/'}, {'title': 'Мотылёк', 'url': 'https://www.kinopoisk.ru/film/939411/'}, {'title': 'Вечное сияние чистого разума', 'url': 'https://www.kinopoisk.ru/film/5492/'}, {'title': 'Игра', 'url': 'https://www.kinopoisk.ru/film/12198/'}, {'title': 'Твоё имя', 'url': 'https://www.kinopoisk.ru/film/958722/'}, {'title': 'Убить Билла', 'url': 'https://www.kinopoisk.ru/film/2717/'}, {'title': 'Игра в имитацию', 'url': 'https://www.kinopoisk.ru/film/635772/'}, {'title': 'Форсаж', 'url': 'https://www.kinopoisk.ru/film/666/'}, {'title': 'Бронкская история', 'url': 'https://www.kinopoisk.ru/film/7466/'}, {'title': 'Головоломка', 'url': 'https://www.kinopoisk.ru/film/645118/'}, {'title': 'Мой Хатико', 'url': 'https://www.kinopoisk.ru/film/4395219/'}, {'title': 'День выборов', 'url': 'https://www.kinopoisk.ru/film/309408/'}, {'title': 'Другие', 'url': 'https://www.kinopoisk.ru/film/494/'}, {'title': 'Общество мертвых поэтов', 'url': 'https://www.kinopoisk.ru/film/4996/'}, {'title': 'Гонка', 'url': 'https://www.kinopoisk.ru/film/596125/'}, {'title': 'Хоббит: Нежданное путешествие', 'url': 'https://www.kinopoisk.ru/film/278522/'}, {'title': 'Покровские ворота', 'url': 'https://www.kinopoisk.ru/film/77203/'}, {'title': 'В погоне за счастьем', 'url': 'https://www.kinopoisk.ru/film/104938/'}, {'title': 'Курьер', 'url': 'https://www.kinopoisk.ru/film/45028/'}, {'title': 'Мстители: Финал', 'url': 'https://www.kinopoisk.ru/film/843650/'}, {'title': 'Экипаж', 'url': 'https://www.kinopoisk.ru/film/839818/'}, {'title': 'Темный рыцарь: Возрождение легенды', 'url': 'https://www.kinopoisk.ru/film/437410/'}, {'title': 'Чужие', 'url': 'https://www.kinopoisk.ru/film/406/'}, {'title': 'Красота по-американски', 'url': 'https://www.kinopoisk.ru/film/351/'}, {'title': 'Железный человек', 'url': 'https://www.kinopoisk.ru/film/61237/'}, {'title': 'Игрушка', 'url': 'https://www.kinopoisk.ru/film/57004/'}, {'title': 'Эффект бабочки', 'url': 'https://www.kinopoisk.ru/film/5167/'}, {'title': 'Приключения Шерлока Холмса и доктора Ватсона: Охота на тигра', 'url': 'https://www.kinopoisk.ru/film/368937/'}, {'title': 'О чём говорят мужчины', 'url': 'https://www.kinopoisk.ru/film/468102/'}, {'title': 'Работа без авторства', 'url': 'https://www.kinopoisk.ru/film/959606/'}, {'title': 'Один дома 2: Затерянный в Нью-Йорке', 'url': 'https://www.kinopoisk.ru/film/5928/'}, {'title': 'Тот самый Мюнхгаузен', 'url': 'https://www.kinopoisk.ru/film/77283/'}, {'title': 'Сталкер', 'url': 'https://www.kinopoisk.ru/film/43970/'}, {'title': 'Американская история X', 'url': 'https://www.kinopoisk.ru/film/382/'}, {'title': 'Отель «Гранд Будапешт»', 'url': 'https://www.kinopoisk.ru/film/683999/'}, {'title': 'Пленницы', 'url': 'https://www.kinopoisk.ru/film/455194/'}, {'title': 'Один день', 'url': 'https://www.kinopoisk.ru/film/495518/'}, {'title': 'Изгой', 'url': 'https://www.kinopoisk.ru/film/627/'}, {'title': 'Казино', 'url': 'https://www.kinopoisk.ru/film/2494/'}, {'title': 'Эта замечательная жизнь', 'url': 'https://www.kinopoisk.ru/film/348/'}, {'title': 'Счастье в конверте', 'url': 'https://www.kinopoisk.ru/film/1234939/'}, {'title': 'Таксист', 'url': 'https://www.kinopoisk.ru/film/1008113/'}, {'title': 'Гараж', 'url': 'https://www.kinopoisk.ru/film/44467/'}, {'title': 'Прислуга', 'url': 'https://www.kinopoisk.ru/film/470553/'}, {'title': 'Воин', 'url': 'https://www.kinopoisk.ru/film/442568/'}, {'title': 'Бегущий по лезвию 2049', 'url': 'https://www.kinopoisk.ru/film/589290/'}, {'title': 'Выстрел в пустоту', 'url': 'https://www.kinopoisk.ru/film/910353/'}, {'title': 'Невидимый гость', 'url': 'https://www.kinopoisk.ru/film/959365/'}, {'title': 'Человек-паук', 'url': 'https://www.kinopoisk.ru/film/838/'}, {'title': 'Нечто', 'url': 'https://www.kinopoisk.ru/film/8366/'}, {'title': 'Землетрясение', 'url': 'https://www.kinopoisk.ru/film/463694/'}, {'title': 'Жизнь других', 'url': 'https://www.kinopoisk.ru/film/126196/'}, {'title': 'Звук свободы', 'url': 'https://www.kinopoisk.ru/film/1134493/'}, {'title': 'Пролетая над гнездом кукушки', 'url': 'https://www.kinopoisk.ru/film/336/'}, {'title': 'Пираты Карибского моря: На краю света', 'url': 'https://www.kinopoisk.ru/film/102124/'}, {'title': 'Старикам тут не место', 'url': 'https://www.kinopoisk.ru/film/195434/'}, {'title': 'Лицо со шрамом', 'url': 'https://www.kinopoisk.ru/film/4695/'}, {'title': 'Чего хотят женщины', 'url': 'https://www.kinopoisk.ru/film/880/'}, {'title': 'Большая игра', 'url': 'https://www.kinopoisk.ru/film/976636/'}, {'title': 'Гарри Поттер и Принц-полукровка', 'url': 'https://www.kinopoisk.ru/film/89515/'}, {'title': 'Убойные каникулы', 'url': 'https://www.kinopoisk.ru/film/485261/'}, {'title': 'Бешеные псы', 'url': 'https://www.kinopoisk.ru/film/394/'}, {'title': 'Терминатор', 'url': 'https://www.kinopoisk.ru/film/507/'}, {'title': 'День сурка', 'url': 'https://www.kinopoisk.ru/film/527/'}, {'title': 'Константин: Повелитель тьмы', 'url': 'https://www.kinopoisk.ru/film/3793/'}, {'title': 'Добро пожаловать, или Посторонним вход воспрещен', 'url': 'https://www.kinopoisk.ru/film/44238/'}, {'title': 'Три билборда на границе Эббинга, Миссури', 'url': 'https://www.kinopoisk.ru/film/944098/'}, {'title': 'Ученик чудовища', 'url': 'https://www.kinopoisk.ru/film/885317/'}, {'title': 'Город бога', 'url': 'https://www.kinopoisk.ru/film/439/'}, {'title': 'Профессионал', 'url': 'https://www.kinopoisk.ru/film/39259/'}, {'title': 'Человек-паук: Паутина вселенных', 'url': 'https://www.kinopoisk.ru/film/1219177/'}, {'title': 'Шестое чувство', 'url': 'https://www.kinopoisk.ru/film/395/'}, {'title': 'Мальчик в полосатой пижаме', 'url': 'https://www.kinopoisk.ru/film/281251/'}, {'title': 'Запах женщины', 'url': 'https://www.kinopoisk.ru/film/4871/'}, {'title': 'Хранители', 'url': 'https://www.kinopoisk.ru/film/252641/'}, {'title': 'Васаби', 'url': 'https://www.kinopoisk.ru/film/14288/'}, {'title': 'Хоббит: Битва пяти воинств', 'url': 'https://www.kinopoisk.ru/film/694633/'}, {'title': 'Берегись автомобиля', 'url': 'https://www.kinopoisk.ru/film/46089/'}, {'title': 'Сплетение судеб', 'url': 'https://www.kinopoisk.ru/film/4948870/'}, {'title': 'Мементо', 'url': 'https://www.kinopoisk.ru/film/335/'}, {'title': 'Гарри Поттер и Дары Смерти: Часть I', 'url': 'https://www.kinopoisk.ru/film/276762/'}, {'title': 'Грань будущего', 'url': 'https://www.kinopoisk.ru/film/505851/'}]\n"
     ]
    }
   ],
   "source": [
    "print(movies_data)"
   ]
  },
  {
   "cell_type": "markdown",
   "metadata": {},
   "source": [
    "## Step 5: Save Data to JSON\n",
    "\n",
    "After extracting all the movie details, we save the data into a structured JSON file named `movies_links.json`. This file will contain the titles and URLs of all the movies."
   ]
  },
  {
   "cell_type": "code",
   "execution_count": 50,
   "metadata": {},
   "outputs": [],
   "source": [
    "with open(\"movies_links.json\", \"w\", encoding=\"utf-8\") as json_file:\n",
    "    json.dump(movies_data, json_file, ensure_ascii=False, indent=4)"
   ]
  },
  {
   "cell_type": "markdown",
   "metadata": {},
   "source": [
    "## Step 6: Extract Additional Movie Details\n",
    "\n",
    "- This cell enriches the movie data by extracting additional details (e.g., genre, director, release year, etc.) from each movie's individual page on KinoPoisk.\n",
    "- The extracted details are stored in the `movies_data_full` list, which will later be saved to a JSON file for further analysis or use."
   ]
  },
  {
   "cell_type": "code",
   "execution_count": null,
   "metadata": {},
   "outputs": [
    {
     "name": "stdout",
     "output_type": "stream",
     "text": [
      "hello\n",
      "hello\n",
      "hello\n",
      "hello\n",
      "hello\n",
      "hello\n",
      "hello\n",
      "hello\n",
      "hello\n",
      "hello\n",
      "hello\n",
      "hello\n",
      "hello\n",
      "hello\n",
      "hello\n",
      "hello\n",
      "hello\n",
      "hello\n",
      "hello\n",
      "hello\n",
      "hello\n",
      "hello\n",
      "hello\n",
      "hello\n",
      "hello\n",
      "hello\n",
      "hello\n",
      "hello\n",
      "hello\n",
      "hello\n",
      "hello\n",
      "hello\n",
      "hello\n",
      "hello\n",
      "hello\n",
      "hello\n",
      "hello\n",
      "hello\n",
      "hello\n",
      "hello\n",
      "hello\n",
      "hello\n",
      "hello\n",
      "hello\n",
      "hello\n",
      "hello\n",
      "hello\n",
      "hello\n"
     ]
    }
   ],
   "source": [
    "for movie in movies_data_full:\n",
    "    url = movie['url']\n",
    "    driver.get(url)\n",
    "    time.sleep(10)\n",
    "\n",
    "    try:\n",
    "        data_elements = driver.find_elements(By.CSS_SELECTOR, \".styles_rowLight__P8Y_1\")\n",
    "        if len(data_elements) == 0:\n",
    "            data_elements = driver.find_elements(By.CSS_SELECTOR, \".styles_rowDark__ucbcz\")\n",
    "\n",
    "        movie_details = {}\n",
    "\n",
    "        # Process each data element\n",
    "        for element in data_elements:\n",
    "            text = element.text  # Get the text of the element\n",
    "            parts = text.split('\\n')  \n",
    "            if len(parts) >= 2: \n",
    "                key = parts[0].strip()  \n",
    "                value = parts[1].strip()\n",
    "                movie_details[key] = value \n",
    "\n",
    "        movie['details'] = movie_details\n",
    "    except Exception as e:\n",
    "        print(f\"Error extracting data for {movie['title']}: {e}\")\n"
   ]
  },
  {
   "cell_type": "code",
   "execution_count": 52,
   "metadata": {},
   "outputs": [],
   "source": [
    "with open(\"movies_details_full.json\", \"w\", encoding=\"utf-8\") as json_file:\n",
    "    json.dump(movies_data_full, json_file, ensure_ascii=False, indent=4)"
   ]
  },
  {
   "cell_type": "markdown",
   "metadata": {},
   "source": [
    "## Step 7: Extract Additional Movie Details\n",
    "\n",
    "We now navigate to each movie's individual page to extract additional details such as:\n",
    "\n",
    "- **Rating**: The movie's rating on KinoPoisk.\n",
    "- **Top 250 Position**: The movie's position in the Top 250 list.\n",
    "- **Number of Ratings**: The total number of ratings the movie has received.\n",
    "\n",
    "These details are stored in the `movies_data_full` list."
   ]
  },
  {
   "cell_type": "code",
   "execution_count": 55,
   "metadata": {},
   "outputs": [],
   "source": [
    "with open('movies_details_full.json', 'r', encoding='utf-8') as file:\n",
    "    movies_data_full = json.load(file)"
   ]
  },
  {
   "cell_type": "code",
   "execution_count": null,
   "metadata": {},
   "outputs": [],
   "source": [
    "for movie in movies_data_full:\n",
    "    url = movie['url']\n",
    "    driver.get(url)\n",
    "    time.sleep(10)\n",
    "\n",
    "    try:\n",
    "        data_elements = driver.find_elements(By.CSS_SELECTOR, \".styles_rootMSize__B8Ch0\")\n",
    "\n",
    "        # Process each data element\n",
    "        for element in data_elements:\n",
    "            if isinstance(movie.get('details'), dict):\n",
    "                movie['details']['Рейтинг'] = data_elements[0].text.split('\\n')[0]  \n",
    "                movie['details']['Топ 250'] = data_elements[0].text.split('\\n')[3]\n",
    "                movie['details']['Оценок'] = data_elements[0].text.split('\\n')[4]\n",
    "            else:\n",
    "                print(movie['url'])\n",
    "            \n",
    "        \n",
    "    except Exception as e:\n",
    "        print(f\"Error extracting data for {movie['title']}: {e}\")"
   ]
  },
  {
   "cell_type": "code",
   "execution_count": 57,
   "metadata": {},
   "outputs": [],
   "source": [
    "with open('movies_with_rating.json', 'w', encoding='utf-8') as file:\n",
    "    json.dump(movies_data_full, file, ensure_ascii=False, indent=4)"
   ]
  },
  {
   "cell_type": "markdown",
   "metadata": {},
   "source": [
    "## Step 8: Extract Actor Information\n",
    "\n",
    "In this step, we further enrich the movie data by scraping the list of actors for each movie from its individual page on KinoPoisk. The cell does:\n",
    "\n",
    "1. **Iterate Through Movies**:\n",
    "   - The loop iterates through each movie in the `movies_data_full` list, which already contains basic details (title, URL) and additional details (e.g., genre, director, etc.).\n",
    "\n",
    "2. **Navigate to Movie Page**:\n",
    "   - For each movie, the script navigates to its individual page using the `url` stored in the movie dictionary.\n",
    "   - A delay of 10 seconds (`time.sleep(10)`) is added to ensure the page fully loads before scraping.\n",
    "\n",
    "3. **Extract Actor Information**:\n",
    "   - The script attempts to locate elements on the page using the CSS selector `.styles_list___ufg4`.\n"
   ]
  },
  {
   "cell_type": "code",
   "execution_count": 60,
   "metadata": {},
   "outputs": [],
   "source": [
    "with open('movies_with_rating.json', 'r', encoding='utf-8') as file:\n",
    "    movies_data_full = json.load(file)"
   ]
  },
  {
   "cell_type": "code",
   "execution_count": null,
   "metadata": {},
   "outputs": [],
   "source": [
    "for movie in movies_data_full:\n",
    "    url = movie['url']\n",
    "    driver.get(url)\n",
    "    time.sleep(10)\n",
    "\n",
    "    try:\n",
    "        # Extract the data block\n",
    "        data_elements = driver.find_elements(By.CSS_SELECTOR, \".styles_list___ufg4\")\n",
    "\n",
    "        # Process each data element\n",
    "        for element in data_elements:\n",
    "            if isinstance(movie.get('details'), dict):\n",
    "                movie['details']['Актеры'] = data_elements[0].text.split('\\n') \n",
    "            else:\n",
    "                print(movie['url'])\n",
    "            \n",
    "        \n",
    "    except Exception as e:\n",
    "        print(f\"Error extracting data for {movie['title']}: {e}\")"
   ]
  },
  {
   "cell_type": "code",
   "execution_count": 62,
   "metadata": {},
   "outputs": [],
   "source": [
    "with open('movies_with_actors.json', 'w', encoding='utf-8') as file:\n",
    "    json.dump(movies_data_full, file, ensure_ascii=False, indent=4)"
   ]
  },
  {
   "cell_type": "markdown",
   "metadata": {},
   "source": [
    "## Step 9: Extract Reviews\n",
    "\n",
    "We navigate to the reviews sections of each movie's page to extract:\n",
    "\n",
    "- **User Reviews**: The number of positive, negative, and neutral reviews from users."
   ]
  },
  {
   "cell_type": "code",
   "execution_count": 67,
   "metadata": {},
   "outputs": [],
   "source": [
    "with open('movies_with_actors.json', 'r', encoding='utf-8') as file:\n",
    "    movies_data_full = json.load(file)"
   ]
  },
  {
   "cell_type": "code",
   "execution_count": null,
   "metadata": {},
   "outputs": [],
   "source": [
    "for movie in movies_data_full:\n",
    "    url = movie['url']\n",
    "    new_url = url.rstrip('/') + '/reviews/'\n",
    "\n",
    "\n",
    "    driver.get(new_url)\n",
    "    time.sleep(10)\n",
    "\n",
    "    try:\n",
    "        # Extract the data block\n",
    "        all_elements = driver.find_elements(By.CSS_SELECTOR, \"ul.resp_type b\")\n",
    "\n",
    "\n",
    "        # Process each data element\n",
    "        if isinstance(movie.get('details'), dict):\n",
    "            movie['details']['Количество рецензий от зрителей'] = all_elements[0].text\n",
    "            movie['details']['Количество положительных рецензий от зрителей'] = all_elements[1].text\n",
    "            movie['details']['Количество отрицательных рецензий от зрителей'] = all_elements[2].text\n",
    "            movie['details']['Количество нейтральных рецензий от зрителей'] = all_elements[4].text\n",
    "        else:\n",
    "            print(movie['url'])\n",
    "            \n",
    "        \n",
    "    except Exception as e:\n",
    "        print(f\"Error extracting data for {movie['title']}: {e}\")\n",
    "    "
   ]
  },
  {
   "cell_type": "code",
   "execution_count": 75,
   "metadata": {},
   "outputs": [],
   "source": [
    "with open('movies_with_rewiw_score.json', 'w', encoding='utf-8') as file:\n",
    "    json.dump(movies_data_full, file, ensure_ascii=False, indent=4)"
   ]
  },
  {
   "cell_type": "markdown",
   "metadata": {},
   "source": [
    "## Step 10: Extract Press Ratings\n",
    "\n",
    "We navigate to the press sections of each movie's page to extract:\n",
    "\n",
    "- **Press Ratings**: The percentage of positive reviews from international and Russian critics."
   ]
  },
  {
   "cell_type": "code",
   "execution_count": 79,
   "metadata": {},
   "outputs": [],
   "source": [
    "with open('movies_with_rewiw_score.json', 'r', encoding='utf-8') as file:\n",
    "    movies_data_full = json.load(file)"
   ]
  },
  {
   "cell_type": "code",
   "execution_count": null,
   "metadata": {},
   "outputs": [
    {
     "name": "stdout",
     "output_type": "stream",
     "text": [
      "Error extracting data for Достучаться до небес: list index out of range\n",
      "Error extracting data for Операция «Ы» и другие приключения Шурика: list index out of range\n",
      "Error extracting data for Бриллиантовая рука: list index out of range\n",
      "Error extracting data for Девчата: list index out of range\n",
      "Error extracting data for Брат 2: list index out of range\n",
      "Error extracting data for Иван Васильевич меняет профессию: list index out of range\n",
      "Error extracting data for Собачье сердце: list index out of range\n",
      "Error extracting data for Дангал: list index out of range\n",
      "Error extracting data for Кавказская пленница, или Новые приключения Шурика: list index out of range\n",
      "Error extracting data for Титаник: list index out of range\n",
      "Error extracting data for ...А зори здесь тихие: list index out of range\n",
      "Error extracting data for В августе 44-го: list index out of range\n",
      "Error extracting data for Укрощение строптивого: list index out of range\n",
      "Error extracting data for Джентльмены удачи: list index out of range\n",
      "Error extracting data for Шерлок Холмс и доктор Ватсон: Знакомство: list index out of range\n",
      "Error extracting data for Приключения Шерлока Холмса и доктора Ватсона: Собака Баскервилей: list index out of range\n",
      "Error extracting data for Шоу Трумана: list index out of range\n",
      "Error extracting data for Белая птица: Новое чудо: list index out of range\n",
      "Error extracting data for Один дома: list index out of range\n",
      "Error extracting data for Лекарь: Ученик Авиценны: list index out of range\n",
      "Error extracting data for Крик тишины: list index out of range\n",
      "Error extracting data for Алеша Попович и Тугарин Змей: list index out of range\n",
      "Error extracting data for 12 стульев: list index out of range\n",
      "Error extracting data for Они сражались за Родину: list index out of range\n",
      "Error extracting data for Адвокат дьявола: list index out of range\n",
      "Error extracting data for Балканский рубеж: list index out of range\n",
      "Error extracting data for Кин-дза-дза!: list index out of range\n",
      "Error extracting data for Как прогулять школу с пользой: list index out of range\n",
      "Error extracting data for Война: list index out of range\n",
      "Error extracting data for Люди в чёрном: list index out of range\n",
      "Error extracting data for Небо: list index out of range\n",
      "Error extracting data for Брестская крепость: list index out of range\n",
      "Error extracting data for Такси: list index out of range\n",
      "Error extracting data for Вокзал для двоих: list index out of range\n",
      "Error extracting data for Приходи на меня посмотреть: list index out of range\n",
      "Error extracting data for Карнавальная ночь: list index out of range\n",
      "Error extracting data for Афоня: list index out of range\n",
      "Error extracting data for Чужой: list index out of range\n",
      "Error extracting data for Приключения Реми: list index out of range\n",
      "Error extracting data for Мимино: list index out of range\n",
      "Error extracting data for Приключения Шерлока Холмса и доктора Ватсона: Король шантажа: list index out of range\n",
      "Error extracting data for Холодное лето пятьдесят третьего...: list index out of range\n",
      "Error extracting data for Легенда №17: list index out of range\n",
      "Error extracting data for Ворошиловский стрелок: list index out of range\n",
      "Error extracting data for Самая обаятельная и привлекательная: list index out of range\n",
      "Error extracting data for Шерлок Холмс и доктор Ватсон: Смертельная схватка: list index out of range\n",
      "Error extracting data for Билли Эллиот: list index out of range\n",
      "Error extracting data for Подольские курсанты: list index out of range\n",
      "Error extracting data for Не может быть!: list index out of range\n",
      "Error extracting data for Вечера на хуторе близ Диканьки: list index out of range\n",
      "Error extracting data for Белое солнце пустыни: list index out of range\n",
      "Error extracting data for Назад в будущее 2: list index out of range\n",
      "Error extracting data for Вам и не снилось...: list index out of range\n",
      "Error extracting data for Апокалипсис сегодня: list index out of range\n",
      "Error extracting data for Жестокий романс: list index out of range\n",
      "Error extracting data for Особенности национальной охоты: list index out of range\n",
      "Error extracting data for Форсаж: list index out of range\n",
      "Error extracting data for Бронкская история: list index out of range\n",
      "Error extracting data for Мой Хатико: list index out of range\n",
      "Error extracting data for День выборов: list index out of range\n",
      "Error extracting data for Покровские ворота: list index out of range\n",
      "Error extracting data for Курьер: list index out of range\n",
      "Error extracting data for Экипаж: list index out of range\n",
      "Error extracting data for Чужие: list index out of range\n",
      "Error extracting data for Игрушка: list index out of range\n",
      "Error extracting data for Приключения Шерлока Холмса и доктора Ватсона: Охота на тигра: list index out of range\n",
      "Error extracting data for О чём говорят мужчины: list index out of range\n",
      "Error extracting data for Работа без авторства: list index out of range\n",
      "Error extracting data for Один дома 2: Затерянный в Нью-Йорке: list index out of range\n",
      "Error extracting data for Тот самый Мюнхгаузен: list index out of range\n",
      "Error extracting data for Американская история X: list index out of range\n",
      "Error extracting data for Казино: list index out of range\n",
      "Error extracting data for Счастье в конверте: list index out of range\n",
      "Error extracting data for Таксист: list index out of range\n",
      "Error extracting data for Гараж: list index out of range\n",
      "Error extracting data for Воин: list index out of range\n",
      "Error extracting data for Человек-паук: list index out of range\n",
      "Error extracting data for Землетрясение: list index out of range\n",
      "Error extracting data for Чего хотят женщины: list index out of range\n",
      "Error extracting data for День сурка: list index out of range\n",
      "Error extracting data for Добро пожаловать, или Посторонним вход воспрещен: list index out of range\n",
      "Error extracting data for Профессионал: list index out of range\n",
      "Error extracting data for Мальчик в полосатой пижаме: list index out of range\n",
      "Error extracting data for Запах женщины: list index out of range\n",
      "Error extracting data for Берегись автомобиля: list index out of range\n",
      "Error extracting data for Сплетение судеб: list index out of range\n"
     ]
    }
   ],
   "source": [
    "for movie in movies_data_full:\n",
    "    url = movie['url']\n",
    "    new_url = url.rstrip('/') + '/press/'\n",
    "\n",
    "\n",
    "    driver.get(new_url)\n",
    "    time.sleep(10)\n",
    "\n",
    "    try:\n",
    "        # Extract the data block\n",
    "        all_elements = driver.find_elements(By.CSS_SELECTOR, \".criticsRatingBlock\")\n",
    "\n",
    "        # Process each data element\n",
    "        if isinstance(movie.get('details'), dict):\n",
    "            movie['details']['Процент положительных рецензий международных критиков'] = all_elements[0].text.split('\\n')[1]\n",
    "            movie['details']['Процент положительных рецензий российских критиков'] = all_elements[0].text.split('\\n')[5]\n",
    "\n",
    "        else:\n",
    "            print(movie['url'])\n",
    "            \n",
    "        \n",
    "    except Exception as e:\n",
    "        print(f\"Error extracting data for {movie['title']}: {e}\")\n",
    "    "
   ]
  },
  {
   "cell_type": "code",
   "execution_count": 104,
   "metadata": {},
   "outputs": [],
   "source": [
    "with open('movies_with_press.json', 'w', encoding='utf-8') as file:\n",
    "    json.dump(movies_data_full, file, ensure_ascii=False, indent=4)"
   ]
  },
  {
   "cell_type": "markdown",
   "metadata": {},
   "source": [
    "## Step 11: Extract 100 User Reviews\n",
    "\n",
    "Finally, we extract the first 100 user reviews for each movie and add them to the dataset."
   ]
  },
  {
   "cell_type": "code",
   "execution_count": 151,
   "metadata": {},
   "outputs": [],
   "source": [
    "with open('movies_with_press.json', 'r', encoding='utf-8') as file:\n",
    "    movies_data_full = json.load(file)"
   ]
  },
  {
   "cell_type": "code",
   "execution_count": null,
   "metadata": {},
   "outputs": [],
   "source": [
    "for movie in movies_data_full:\n",
    "    url = movie['url']\n",
    "    new_url = url.rstrip('/') + '/reviews/ord/date/status/all/perpage/100/'\n",
    "\n",
    "\n",
    "    driver.get(new_url)\n",
    "    time.sleep(15)\n",
    "\n",
    "    try:\n",
    "        # Extract the data block\n",
    "        all_elements = driver.find_elements(By.CSS_SELECTOR, \"div.response p\")\n",
    "\n",
    "        if isinstance(movie.get('details'), dict):\n",
    "            if 'Рецензии 100 зрителей' not in movie['details']:\n",
    "                movie['details']['Рецензии 100 зрителей'] = []\n",
    "                \n",
    "            for review in all_elements:\n",
    "\n",
    "                review_text = review.text.split('\\n')\n",
    "\n",
    "                main_text = [line for line in review_text if line.strip() not in [\"прямая ссылка\", \"+ комментарий\"]]\n",
    "\n",
    "                main_text = '\\n'.join(main_text)\n",
    "\n",
    "                if main_text.strip():\n",
    "                    movie['details']['Рецензии 100 зрителей'].append(main_text)\n",
    "\n",
    "        else:\n",
    "            print(movie['url'])\n",
    "            \n",
    "        \n",
    "    except Exception as e:\n",
    "        print(f\"Error extracting data for {movie['title']}: {e}\")\n",
    "    "
   ]
  },
  {
   "cell_type": "code",
   "execution_count": 153,
   "metadata": {},
   "outputs": [],
   "source": [
    "with open('movies_all.json', 'w', encoding='utf-8') as file:\n",
    "    json.dump(movies_data_full, file, ensure_ascii=False, indent=4)"
   ]
  },
  {
   "cell_type": "markdown",
   "metadata": {},
   "source": [
    "This step is repeated to ensure that **all movies** in the dataset have their **first 100 user reviews** extracted. \n",
    "\n",
    "### **Purpose**:\n",
    "- This repetition ensures that the final dataset is **comprehensive** and **error-free**, making it ready for analysis or further processing."
   ]
  },
  {
   "cell_type": "code",
   "execution_count": 5,
   "metadata": {},
   "outputs": [],
   "source": [
    "with open('movies_all.json', 'r', encoding='utf-8') as file:\n",
    "    movies_data_full = json.load(file)"
   ]
  },
  {
   "cell_type": "code",
   "execution_count": null,
   "metadata": {},
   "outputs": [],
   "source": [
    "for movie in movies_data_full:\n",
    "    url = movie['url']\n",
    "    new_url = url.rstrip('/') + '/reviews/ord/date/status/all/perpage/100/'\n",
    "    if movie['details']['Рецензии 100 зрителей'] != []:\n",
    "        continue\n",
    "\n",
    "    driver.get(new_url)\n",
    "    time.sleep(15)\n",
    "\n",
    "    try:\n",
    "        # Extract the data block\n",
    "        all_elements = driver.find_elements(By.CSS_SELECTOR, \"div.response p\")\n",
    "\n",
    "        if isinstance(movie.get('details'), dict):\n",
    "            if 'Рецензии 100 зрителей' not in movie['details']:\n",
    "                movie['details']['Рецензии 100 зрителей'] = []\n",
    "                \n",
    "            for review in all_elements:\n",
    "\n",
    "                review_text = review.text.split('\\n')\n",
    "\n",
    "                main_text = [line for line in review_text if line.strip() not in [\"прямая ссылка\", \"+ комментарий\"]]\n",
    "\n",
    "                main_text = '\\n'.join(main_text)\n",
    "\n",
    "                if main_text.strip():\n",
    "                    movie['details']['Рецензии 100 зрителей'].append(main_text)\n",
    "\n",
    "        else:\n",
    "            print(movie['url'])\n",
    "            \n",
    "        \n",
    "    except Exception as e:\n",
    "        print(f\"Error extracting data for {movie['title']}: {e}\")\n",
    "    "
   ]
  },
  {
   "cell_type": "code",
   "execution_count": 7,
   "metadata": {},
   "outputs": [],
   "source": [
    "with open('movies_all_final.json', 'w', encoding='utf-8') as file:\n",
    "    json.dump(movies_data_full, file, ensure_ascii=False, indent=4)"
   ]
  },
  {
   "cell_type": "code",
   "execution_count": 10,
   "metadata": {},
   "outputs": [],
   "source": [
    "with open('movies_all_final.json', 'r', encoding='utf-8') as file:\n",
    "    movies_data_full = json.load(file)"
   ]
  },
  {
   "cell_type": "code",
   "execution_count": null,
   "metadata": {},
   "outputs": [],
   "source": [
    "for movie in movies_data_full:\n",
    "    url = movie['url']\n",
    "    new_url = url.rstrip('/') + '/reviews/ord/date/status/all/perpage/100/'\n",
    "    if movie['details']['Рецензии 100 зрителей'] != []:\n",
    "        continue\n",
    "\n",
    "    driver.get(new_url)\n",
    "    time.sleep(20)\n",
    "\n",
    "    try:\n",
    "        # Extract the data block\n",
    "        all_elements = driver.find_elements(By.CSS_SELECTOR, \"div.response p\")\n",
    "\n",
    "        if isinstance(movie.get('details'), dict):\n",
    "            if 'Рецензии 100 зрителей' not in movie['details']:\n",
    "                movie['details']['Рецензии 100 зрителей'] = []\n",
    "                \n",
    "            for review in all_elements:\n",
    "\n",
    "                review_text = review.text.split('\\n')\n",
    "\n",
    "                main_text = [line for line in review_text if line.strip() not in [\"прямая ссылка\", \"+ комментарий\"]]\n",
    "\n",
    "                main_text = '\\n'.join(main_text)\n",
    "\n",
    "                if main_text.strip():\n",
    "                    movie['details']['Рецензии 100 зрителей'].append(main_text)\n",
    "\n",
    "        else:\n",
    "            print(movie['url'])\n",
    "            \n",
    "        \n",
    "    except Exception as e:\n",
    "        print(f\"Error extracting data for {movie['title']}: {e}\")\n",
    "    "
   ]
  },
  {
   "cell_type": "markdown",
   "metadata": {},
   "source": [
    "## Step 12: Save Final Dataset to JSON\n",
    "\n",
    "We save the final dataset, now including 100 user reviews, into a JSON file named `movies_final.json`."
   ]
  },
  {
   "cell_type": "code",
   "execution_count": 13,
   "metadata": {},
   "outputs": [],
   "source": [
    "with open('movies_final.json', 'w', encoding='utf-8') as file:\n",
    "    json.dump(movies_data_full, file, ensure_ascii=False, indent=4)"
   ]
  },
  {
   "cell_type": "markdown",
   "metadata": {},
   "source": [
    "## Step 13: Close the WebDriver\n",
    "\n",
    "After completing the scraping process, we close the WebDriver to free up system resources."
   ]
  },
  {
   "cell_type": "code",
   "execution_count": 8,
   "metadata": {},
   "outputs": [],
   "source": [
    "driver.quit()"
   ]
  }
 ],
 "metadata": {
  "kernelspec": {
   "display_name": "venv",
   "language": "python",
   "name": "python3"
  },
  "language_info": {
   "codemirror_mode": {
    "name": "ipython",
    "version": 3
   },
   "file_extension": ".py",
   "mimetype": "text/x-python",
   "name": "python",
   "nbconvert_exporter": "python",
   "pygments_lexer": "ipython3",
   "version": "3.9.6"
  }
 },
 "nbformat": 4,
 "nbformat_minor": 2
}
